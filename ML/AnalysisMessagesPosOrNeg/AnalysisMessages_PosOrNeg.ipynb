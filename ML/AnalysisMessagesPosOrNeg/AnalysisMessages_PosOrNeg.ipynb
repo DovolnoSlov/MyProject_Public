{
 "cells": [
  {
   "cell_type": "markdown",
   "id": "2d5f78a4",
   "metadata": {},
   "source": [
    "### Задание\n",
    "#### Необходимо провести анализ тональности сообщений на позитивные и негативные (бинарная классификация).\n",
    "#### Данные:\n",
    "#### train.csv – данные для тренировки. Столбцы text – само сообщение, label – метка (0 – негативное, 1 – позитивное).\n",
    "#### test.csv – данные для тестирования. Столбцы index – номер сообщения, text – само сообщение.\n",
    "#### Необходимо определить тональность (0 или 1) в файле train.csv (тут вероятно должно быть test.csv ?) и сохранить получившийся результат в формате prediction.csv c разделителем точка с запятой. Столбцы, которые должен содержать prediction.csv:\n",
    "#### · index – номер сообщения\n",
    "#### · label – предсказанная тональность\n",
    "\n",
    "#### Качество полученного предсказания будет считаться по метрике F1."
   ]
  },
  {
   "cell_type": "code",
   "execution_count": 1,
   "id": "8f9f60d7",
   "metadata": {},
   "outputs": [],
   "source": [
    "import pandas as pd\n",
    "import re\n",
    "from sklearn.feature_extraction.text import TfidfVectorizer\n",
    "from sklearn.model_selection import train_test_split\n",
    "from sklearn.linear_model import LogisticRegression\n",
    "from nltk.stem.snowball import SnowballStemmer\n",
    "from sklearn.metrics import f1_score\n",
    "import stop_words\n",
    "import warnings\n",
    "warnings.filterwarnings('ignore')"
   ]
  },
  {
   "cell_type": "code",
   "execution_count": 2,
   "id": "92807e67",
   "metadata": {},
   "outputs": [
    {
     "data": {
      "text/html": [
       "<div>\n",
       "<style scoped>\n",
       "    .dataframe tbody tr th:only-of-type {\n",
       "        vertical-align: middle;\n",
       "    }\n",
       "\n",
       "    .dataframe tbody tr th {\n",
       "        vertical-align: top;\n",
       "    }\n",
       "\n",
       "    .dataframe thead th {\n",
       "        text-align: right;\n",
       "    }\n",
       "</style>\n",
       "<table border=\"1\" class=\"dataframe\">\n",
       "  <thead>\n",
       "    <tr style=\"text-align: right;\">\n",
       "      <th></th>\n",
       "      <th>text</th>\n",
       "      <th>label</th>\n",
       "    </tr>\n",
       "  </thead>\n",
       "  <tbody>\n",
       "    <tr>\n",
       "      <th>0</th>\n",
       "      <td>На нас обиделась Оля....Жизнь потеряла смысл. ...</td>\n",
       "      <td>0</td>\n",
       "    </tr>\n",
       "    <tr>\n",
       "      <th>1</th>\n",
       "      <td>RT @PolinaZuzy: http://t.co/ZYwbUowIti единств...</td>\n",
       "      <td>1</td>\n",
       "    </tr>\n",
       "    <tr>\n",
       "      <th>2</th>\n",
       "      <td>@AHamueva Машину назвать малышкой,мать ты ебу ...</td>\n",
       "      <td>1</td>\n",
       "    </tr>\n",
       "    <tr>\n",
       "      <th>3</th>\n",
       "      <td>RT @malina23_: отличный день в школе!:*теперь ...</td>\n",
       "      <td>1</td>\n",
       "    </tr>\n",
       "    <tr>\n",
       "      <th>4</th>\n",
       "      <td>@Serebryakovaaa не то слово))) у него что ни м...</td>\n",
       "      <td>1</td>\n",
       "    </tr>\n",
       "  </tbody>\n",
       "</table>\n",
       "</div>"
      ],
      "text/plain": [
       "                                                text  label\n",
       "0  На нас обиделась Оля....Жизнь потеряла смысл. ...      0\n",
       "1  RT @PolinaZuzy: http://t.co/ZYwbUowIti единств...      1\n",
       "2  @AHamueva Машину назвать малышкой,мать ты ебу ...      1\n",
       "3  RT @malina23_: отличный день в школе!:*теперь ...      1\n",
       "4  @Serebryakovaaa не то слово))) у него что ни м...      1"
      ]
     },
     "execution_count": 2,
     "metadata": {},
     "output_type": "execute_result"
    }
   ],
   "source": [
    "# загрузка train датасета\n",
    "df3_train = pd.read_csv(\"train.csv\", low_memory=False)\n",
    "df3_train.head()"
   ]
  },
  {
   "cell_type": "code",
   "execution_count": 3,
   "id": "6883cebf",
   "metadata": {},
   "outputs": [
    {
     "name": "stdout",
     "output_type": "stream",
     "text": [
      "<class 'pandas.core.frame.DataFrame'>\n",
      "RangeIndex: 136100 entries, 0 to 136099\n",
      "Data columns (total 2 columns):\n",
      " #   Column  Non-Null Count   Dtype \n",
      "---  ------  --------------   ----- \n",
      " 0   text    136100 non-null  object\n",
      " 1   label   136100 non-null  int64 \n",
      "dtypes: int64(1), object(1)\n",
      "memory usage: 2.1+ MB\n"
     ]
    }
   ],
   "source": [
    "df3_train.info()\n",
    "# пустых значений не обнаружено"
   ]
  },
  {
   "cell_type": "code",
   "execution_count": 4,
   "id": "64ad7439",
   "metadata": {},
   "outputs": [
    {
     "data": {
      "text/html": [
       "<div>\n",
       "<style scoped>\n",
       "    .dataframe tbody tr th:only-of-type {\n",
       "        vertical-align: middle;\n",
       "    }\n",
       "\n",
       "    .dataframe tbody tr th {\n",
       "        vertical-align: top;\n",
       "    }\n",
       "\n",
       "    .dataframe thead th {\n",
       "        text-align: right;\n",
       "    }\n",
       "</style>\n",
       "<table border=\"1\" class=\"dataframe\">\n",
       "  <thead>\n",
       "    <tr style=\"text-align: right;\">\n",
       "      <th></th>\n",
       "      <th>index</th>\n",
       "      <th>text</th>\n",
       "    </tr>\n",
       "  </thead>\n",
       "  <tbody>\n",
       "    <tr>\n",
       "      <th>0</th>\n",
       "      <td>61947</td>\n",
       "      <td>Блин, я только сейчас понял, что на день рожде...</td>\n",
       "    </tr>\n",
       "    <tr>\n",
       "      <th>1</th>\n",
       "      <td>208586</td>\n",
       "      <td>@kostarikara да ты все время бегаешь где-то,до...</td>\n",
       "    </tr>\n",
       "    <tr>\n",
       "      <th>2</th>\n",
       "      <td>187819</td>\n",
       "      <td>У меня скоро на всех одноклассников компромат ...</td>\n",
       "    </tr>\n",
       "    <tr>\n",
       "      <th>3</th>\n",
       "      <td>5277</td>\n",
       "      <td>Блин время 4 утра,а я залипаю в телефон(((</td>\n",
       "    </tr>\n",
       "    <tr>\n",
       "      <th>4</th>\n",
       "      <td>149042</td>\n",
       "      <td>На выходных подстригся и купил себе очки для р...</td>\n",
       "    </tr>\n",
       "  </tbody>\n",
       "</table>\n",
       "</div>"
      ],
      "text/plain": [
       "    index                                               text\n",
       "0   61947  Блин, я только сейчас понял, что на день рожде...\n",
       "1  208586  @kostarikara да ты все время бегаешь где-то,до...\n",
       "2  187819  У меня скоро на всех одноклассников компромат ...\n",
       "3    5277         Блин время 4 утра,а я залипаю в телефон(((\n",
       "4  149042  На выходных подстригся и купил себе очки для р..."
      ]
     },
     "execution_count": 4,
     "metadata": {},
     "output_type": "execute_result"
    }
   ],
   "source": [
    "# загрузка test датасета\n",
    "df3_test = pd.read_csv(\"test.csv\", low_memory=False)\n",
    "df3_test.head()"
   ]
  },
  {
   "cell_type": "code",
   "execution_count": 5,
   "id": "b0e36121",
   "metadata": {},
   "outputs": [
    {
     "name": "stdout",
     "output_type": "stream",
     "text": [
      "<class 'pandas.core.frame.DataFrame'>\n",
      "RangeIndex: 90734 entries, 0 to 90733\n",
      "Data columns (total 2 columns):\n",
      " #   Column  Non-Null Count  Dtype \n",
      "---  ------  --------------  ----- \n",
      " 0   index   90734 non-null  int64 \n",
      " 1   text    90734 non-null  object\n",
      "dtypes: int64(1), object(1)\n",
      "memory usage: 1.4+ MB\n"
     ]
    }
   ],
   "source": [
    "df3_test.info()\n",
    "# пустых значений не обнаружено"
   ]
  },
  {
   "cell_type": "code",
   "execution_count": 6,
   "id": "b0b0b6f2",
   "metadata": {},
   "outputs": [],
   "source": [
    "# удаление пустых значений (на случай, если входные файлы изменятся)\n",
    "df3_train = df3_train[['text', 'label']].dropna()\n",
    "df3_test = df3_test.dropna()"
   ]
  },
  {
   "cell_type": "code",
   "execution_count": 7,
   "id": "27c7d789",
   "metadata": {},
   "outputs": [],
   "source": [
    "# удаление дубликатов\n",
    "df3_train = df3_train.drop_duplicates('text')"
   ]
  },
  {
   "cell_type": "code",
   "execution_count": 8,
   "id": "d218ef81",
   "metadata": {},
   "outputs": [],
   "source": [
    "# применение Стемминга\n",
    "stemmer = SnowballStemmer(language='russian')\n",
    "stop_words_ru = stop_words.get_stop_words('russian')\n",
    "\n",
    "def clear_txt(txt):\n",
    "    \"\"\" \n",
    "    Функция для очистки текста.\n",
    "    - переводит текст в нижний регистр;\n",
    "    - удаляет латиницу, знаки препинания, символы и цифры;\n",
    "    - применяет Стемминг.\n",
    "    \"\"\"\n",
    "    txt = txt.lower()\n",
    "    txt = re.sub('[/+_!@#$A-Za-z0-9\\n.,:()\"\"«»;-]', ' ', txt)\n",
    "    new_txt = ''\n",
    "    for t in txt.split(' '):\n",
    "        if len(t) > 0:\n",
    "            new_txt = new_txt + stemmer.stem(t) + ' '\n",
    "    return new_txt[:-1]"
   ]
  },
  {
   "cell_type": "markdown",
   "id": "13e99161",
   "metadata": {},
   "source": [
    "Как вариант было - привести к начальной форме в нижнем регистре, но посчитал лишним на данном этапе (сильно возрастёт по времени)."
   ]
  },
  {
   "cell_type": "code",
   "execution_count": 9,
   "id": "e63f0d82",
   "metadata": {},
   "outputs": [],
   "source": [
    "# разделение train датасета на 2 выборки - для обучения, и для тестирования качества работы модели\n",
    "X_train, X_test, y_train, y_test = train_test_split(df3_train['text'], df3_train['label'], test_size=0.3)"
   ]
  },
  {
   "cell_type": "code",
   "execution_count": 10,
   "id": "6e05fd2a",
   "metadata": {},
   "outputs": [],
   "source": [
    "# Передача в Vectorizer в качестве параметров: функция и стоп-слова.\n",
    "# Преобразование слов в числовые данные, с определением \"важности\" слов\n",
    "\n",
    "stop_words_ru = stop_words.get_stop_words('russian')\n",
    "df_vectorizer = TfidfVectorizer(max_features=10000,\n",
    "                                preprocessor=clear_txt,\n",
    "                                stop_words=stop_words_ru)\n",
    "\n",
    "X_train = df_vectorizer.fit_transform(X_train)"
   ]
  },
  {
   "cell_type": "code",
   "execution_count": 11,
   "id": "f61a608c",
   "metadata": {},
   "outputs": [],
   "source": [
    "# обучение логистической регрессии и предсказание на выделенной тестовой выборке\n",
    "#(CV версия и RandomForestClassifier давали примерно такой же результат 0.69-0.71)\n",
    "\n",
    "lr = LogisticRegression(random_state=0, n_jobs=4, C=0.8)\n",
    "lr.fit(X_train, y_train)\n",
    "y_pred_lr = lr.predict(df_vectorizer.transform(X_test))"
   ]
  },
  {
   "cell_type": "code",
   "execution_count": 12,
   "id": "928c20d1",
   "metadata": {},
   "outputs": [
    {
     "data": {
      "text/plain": [
       "0.7174474723346171"
      ]
     },
     "execution_count": 12,
     "metadata": {},
     "output_type": "execute_result"
    }
   ],
   "source": [
    "# оценка f1_score на выделенной тестовой выборке\n",
    "f1_score(y_test, y_pred_lr)"
   ]
  },
  {
   "cell_type": "code",
   "execution_count": 19,
   "id": "d5b6d6cc",
   "metadata": {},
   "outputs": [],
   "source": [
    "# предсказание на тестовом датасете, с трансформацией входных данных через Vectorizer\n",
    "df3_test['label'] = lr.predict(df_vectorizer.transform(df3_test['text']))"
   ]
  },
  {
   "cell_type": "code",
   "execution_count": 20,
   "id": "4604cc28",
   "metadata": {},
   "outputs": [
    {
     "data": {
      "text/html": [
       "<div>\n",
       "<style scoped>\n",
       "    .dataframe tbody tr th:only-of-type {\n",
       "        vertical-align: middle;\n",
       "    }\n",
       "\n",
       "    .dataframe tbody tr th {\n",
       "        vertical-align: top;\n",
       "    }\n",
       "\n",
       "    .dataframe thead th {\n",
       "        text-align: right;\n",
       "    }\n",
       "</style>\n",
       "<table border=\"1\" class=\"dataframe\">\n",
       "  <thead>\n",
       "    <tr style=\"text-align: right;\">\n",
       "      <th></th>\n",
       "      <th>index</th>\n",
       "      <th>text</th>\n",
       "      <th>label</th>\n",
       "    </tr>\n",
       "  </thead>\n",
       "  <tbody>\n",
       "    <tr>\n",
       "      <th>0</th>\n",
       "      <td>61947</td>\n",
       "      <td>Блин, я только сейчас понял, что на день рожде...</td>\n",
       "      <td>0</td>\n",
       "    </tr>\n",
       "    <tr>\n",
       "      <th>1</th>\n",
       "      <td>208586</td>\n",
       "      <td>@kostarikara да ты все время бегаешь где-то,до...</td>\n",
       "      <td>0</td>\n",
       "    </tr>\n",
       "    <tr>\n",
       "      <th>2</th>\n",
       "      <td>187819</td>\n",
       "      <td>У меня скоро на всех одноклассников компромат ...</td>\n",
       "      <td>1</td>\n",
       "    </tr>\n",
       "  </tbody>\n",
       "</table>\n",
       "</div>"
      ],
      "text/plain": [
       "    index                                               text  label\n",
       "0   61947  Блин, я только сейчас понял, что на день рожде...      0\n",
       "1  208586  @kostarikara да ты все время бегаешь где-то,до...      0\n",
       "2  187819  У меня скоро на всех одноклассников компромат ...      1"
      ]
     },
     "execution_count": 20,
     "metadata": {},
     "output_type": "execute_result"
    }
   ],
   "source": [
    "df3_test.head(3)"
   ]
  },
  {
   "cell_type": "code",
   "execution_count": 21,
   "id": "2b80f813",
   "metadata": {},
   "outputs": [],
   "source": [
    "# выделение необходимых столбцов и выгрузка в файл с указанными параметрами\n",
    "df3_test = df3_test[['index', 'label']]\n",
    "df3_test.to_csv(\"prediction.csv\", sep=';', index=False)"
   ]
  }
 ],
 "metadata": {
  "kernelspec": {
   "display_name": "Python 3 (ipykernel)",
   "language": "python",
   "name": "python3"
  },
  "language_info": {
   "codemirror_mode": {
    "name": "ipython",
    "version": 3
   },
   "file_extension": ".py",
   "mimetype": "text/x-python",
   "name": "python",
   "nbconvert_exporter": "python",
   "pygments_lexer": "ipython3",
   "version": "3.11.4"
  }
 },
 "nbformat": 4,
 "nbformat_minor": 5
}
