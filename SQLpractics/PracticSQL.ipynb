{
 "cells": [
  {
   "cell_type": "markdown",
   "id": "6baaf5dc",
   "metadata": {},
   "source": [
    "### Практические задания SQL\n",
    "\n",
    "#### Для решения задания 1 используется тренажер https://www.w3schools.com/sql/trysql.asp?filename=trysql_select_all\n",
    "#### SQL запросы представлены\n"
   ]
  },
  {
   "cell_type": "markdown",
   "id": "7d2da9be",
   "metadata": {},
   "source": [
    "#### 1.1 Выбрать заказчиков из Германии, Франции и Мадрида, выведите их название, страну и адрес."
   ]
  },
  {
   "cell_type": "markdown",
   "id": "198d24f4",
   "metadata": {},
   "source": [
    "SELECT CustomerName, Country, Address FROM Customers WHERE Country IN (\"Germany\", \"France\", \"Madrid\");"
   ]
  },
  {
   "cell_type": "markdown",
   "id": "a0b4e4ac",
   "metadata": {},
   "source": [
    "#### 1.2 Выбрать топ 3 страны по количеству заказчиков, вывести их названия и количество записей."
   ]
  },
  {
   "cell_type": "markdown",
   "id": "86db5f62",
   "metadata": {},
   "source": [
    "SELECT Country, COUNT(CustomerName) FROM Customers GROUP BY Country ORDER BY COUNT(CustomerName) DESC LIMIT 3;"
   ]
  },
  {
   "cell_type": "markdown",
   "id": "255e5335",
   "metadata": {},
   "source": [
    "#### 1.3 Выбрать перевозчика, который отправил 10-й по времени заказ, вывести его название, и дату отправления. "
   ]
  },
  {
   "cell_type": "markdown",
   "id": "997fa447",
   "metadata": {},
   "source": [
    "SELECT Shippers.ShipperName, Orders.OrderDate FROM Orders JOIN Shippers ON Orders.ShipperID = Shippers.ShipperID ORDER BY OrderDate LIMIT 9, 1;"
   ]
  },
  {
   "cell_type": "markdown",
   "id": "0f3854e1",
   "metadata": {},
   "source": [
    "#### 1.4. Выбрать самый дорогой заказ, вывести список товаров с их ценами."
   ]
  },
  {
   "cell_type": "markdown",
   "id": "8f036b85",
   "metadata": {},
   "source": [
    "SELECT t1.OrderID, t2.ProductName, t2.Price FROM OrderDetails AS t1 JOIN Products AS t2 ON t1.ProductID = t2.ProductID WHERE t1.OrderID = (SELECT t1.OrderID FROM OrderDetails AS t1 JOIN Products AS t2 ON t1.ProductID = t2.ProductID GROUP BY t1.OrderID ORDER BY SUM(t1.Quantity * t2.Price) DESC LIMIT 1);"
   ]
  },
  {
   "cell_type": "markdown",
   "id": "2f7ebf80",
   "metadata": {},
   "source": [
    "#### 1.5. Какой товар больше всего заказывали по количеству единиц товара, вывести его название и количество единиц в каждом из заказов."
   ]
  },
  {
   "cell_type": "markdown",
   "id": "1e46e0b7",
   "metadata": {},
   "source": [
    "SELECT t1.OrderID, t2.ProductName, t1.Quantity FROM OrderDetails AS t1 JOIN Products AS t2 ON t1.ProductID = t2.ProductID WHERE t1.ProductID = (SELECT ProductID FROM OrderDetails GROUP BY ProductID ORDER BY SUM(Quantity) DESC LIMIT 1);"
   ]
  },
  {
   "cell_type": "markdown",
   "id": "209ea20c",
   "metadata": {},
   "source": [
    "#### 1.6. Вывести топ 5 поставщиков по количеству заказов, вывести их названия, страну, контактное лицо и телефон."
   ]
  },
  {
   "cell_type": "markdown",
   "id": "cd67459e",
   "metadata": {},
   "source": [
    "SELECT t3.SupplierName, t3.Country, t3.ContactName, t3.Phone FROM OrderDetails AS t1 JOIN Products AS t2 ON t1.ProductID = t2.ProductID JOIN Suppliers AS t3 ON t2.SupplierID = t3.SupplierID GROUP BY t2.SupplierID ORDER BY COUNT(DISTINCT OrderID) DESC LIMIT 5;"
   ]
  },
  {
   "cell_type": "markdown",
   "id": "93ceccfa",
   "metadata": {},
   "source": [
    "#### 1.7. Какую категорию товаров заказывали больше всего по стоимости в Бразилии, вывести страну, название категории и сумму."
   ]
  },
  {
   "cell_type": "markdown",
   "id": "87f0408c",
   "metadata": {},
   "source": [
    "SELECT t3.Country, t4.CategoryName, SUM(t1.Quantity * t2.Price) AS SumPrice FROM OrderDetails AS t1 JOIN Products AS t2 ON t1.ProductID = t2.ProductID JOIN Suppliers AS t3 ON t2.SupplierID = t3.SupplierID JOIN Categories AS t4 ON t2.CategoryID = t4.CategoryID WHERE t3.Country = \"Brazil\" GROUP BY t2.CategoryID ORDER BY SumPrice DESC;"
   ]
  },
  {
   "cell_type": "markdown",
   "id": "52a5653d",
   "metadata": {},
   "source": [
    "#### 1.8. Какая разница в стоимости между самым дорогим и самым дешевым заказом из США."
   ]
  },
  {
   "cell_type": "markdown",
   "id": "d305d0e2",
   "metadata": {},
   "source": [
    "SELECT MAX(SumPriceUSA) - MIN(SumPriceUSA) FROM (SELECT t1.OrderID, SUM(t1.Quantity * t2.Price) AS SumPriceUSA  FROM OrderDetails AS t1 JOIN Products AS t2 ON t1.ProductID = t2.ProductID JOIN Suppliers AS t3 ON t2.SupplierID = t3.SupplierID WHERE t3.Country = \"USA\" GROUP BY t1.OrderID);"
   ]
  },
  {
   "cell_type": "markdown",
   "id": "a98041b5",
   "metadata": {},
   "source": [
    "#### 1.9. Вывести количество заказов у каждого их трех самых молодых сотрудников, а также имя и фамилию во второй колонке."
   ]
  },
  {
   "cell_type": "markdown",
   "id": "945b258b",
   "metadata": {},
   "source": [
    "SELECT COUNT(t1.OrderID), (t2.FirstName || ' ' || t2.LastName) AS EmployeeName FROM Orders AS t1 JOIN Employees AS t2 ON t1.EmployeeID = t2.EmployeeID WHERE t1.EmployeeID IN (SELECT EmployeeID FROM Employees Order by BirthDate DESC LIMIT 3) GROUP BY t2.EmployeeID;"
   ]
  },
  {
   "cell_type": "markdown",
   "id": "4f374014",
   "metadata": {},
   "source": [
    "#### 1.10. Сколько банок крабового мяса всего было заказано."
   ]
  },
  {
   "cell_type": "markdown",
   "id": "9713f3f8",
   "metadata": {},
   "source": [
    "SELECT t2.ProductName, (SUM(t1.Quantity) * CAST(Unit AS UNSIGNED)) AS TotalQuantity FROM OrderDetails AS t1 JOIN Products AS t2 ON t1.ProductID = t2.ProductID WHERE t1.ProductID IN (SELECT ProductID FROM Products WHERE ProductName LIKE \"%crab%\") GROUP BY t1.ProductID;"
   ]
  },
  {
   "cell_type": "markdown",
   "id": "ff2ed9d6",
   "metadata": {},
   "source": [
    "#############################################################################################################################"
   ]
  }
 ],
 "metadata": {
  "kernelspec": {
   "display_name": "Python 3 (ipykernel)",
   "language": "python",
   "name": "python3"
  },
  "language_info": {
   "codemirror_mode": {
    "name": "ipython",
    "version": 3
   },
   "file_extension": ".py",
   "mimetype": "text/x-python",
   "name": "python",
   "nbconvert_exporter": "python",
   "pygments_lexer": "ipython3",
   "version": "3.11.4"
  }
 },
 "nbformat": 4,
 "nbformat_minor": 5
}
